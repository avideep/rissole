{
 "cells": [
  {
   "cell_type": "code",
   "execution_count": 1,
   "id": "5050851d",
   "metadata": {},
   "outputs": [],
   "source": [
    "import os\n",
    "import pandas as pd\n",
    "import numpy as np\n",
    "import shutil\n",
    "from torchvision.datasets import ImageFolder\n",
    "from torch.utils.data import DataLoader\n",
    "from torchvision import transforms\n",
    "import torch"
   ]
  },
  {
   "cell_type": "code",
   "execution_count": 2,
   "id": "9d1aca68",
   "metadata": {},
   "outputs": [],
   "source": [
    "x = torch.rand(1,1,4,4)"
   ]
  },
  {
   "cell_type": "code",
   "execution_count": 4,
   "id": "3d35dd66",
   "metadata": {},
   "outputs": [
    {
     "name": "stdout",
     "output_type": "stream",
     "text": [
      "4\n"
     ]
    }
   ],
   "source": [
    "block_size = 2\n",
    "num_blocks = (x.shape[-1] // block_size)**2\n",
    "print(num_blocks)"
   ]
  },
  {
   "cell_type": "code",
   "execution_count": 6,
   "id": "6ac500e4",
   "metadata": {},
   "outputs": [
    {
     "name": "stdout",
     "output_type": "stream",
     "text": [
      "tensor([[[[0.1157, 0.1381, 0.4287, 0.9686],\n",
      "          [0.8617, 0.5661, 0.7504, 0.9481],\n",
      "          [0.6765, 0.0781, 0.1254, 0.5907],\n",
      "          [0.0200, 0.2357, 0.4185, 0.8004]]]])\n",
      "tensor([[[[0.1157, 0.1381],\n",
      "          [0.8617, 0.5661]]]])\n",
      "tensor([[[[0.4287, 0.9686],\n",
      "          [0.7504, 0.9481]]]])\n",
      "tensor([[[[0.6765, 0.0781],\n",
      "          [0.0200, 0.2357]]]])\n",
      "tensor([[[[0.1254, 0.5907],\n",
      "          [0.4185, 0.8004]]]])\n"
     ]
    }
   ],
   "source": [
    "print(x)\n",
    "for i in range(0, x.shape[-1], block_size):\n",
    "    for j in range(0, x.shape[-1], block_size):\n",
    "        print(x[:, :, i:i+block_size, j:j+block_size])"
   ]
  },
  {
   "cell_type": "code",
   "execution_count": null,
   "id": "4fc39886",
   "metadata": {},
   "outputs": [],
   "source": []
  },
  {
   "cell_type": "code",
   "execution_count": null,
   "id": "a1702d0a",
   "metadata": {},
   "outputs": [],
   "source": []
  },
  {
   "cell_type": "code",
   "execution_count": null,
   "id": "0d187d7d",
   "metadata": {},
   "outputs": [],
   "source": []
  },
  {
   "cell_type": "code",
   "execution_count": 2,
   "id": "c5568b9b",
   "metadata": {},
   "outputs": [
    {
     "name": "stdout",
     "output_type": "stream",
     "text": [
      "          filename  class\n",
      "0       000001.jpg   2880\n",
      "1       000002.jpg   2937\n",
      "2       000003.jpg   8692\n",
      "3       000004.jpg   5805\n",
      "4       000005.jpg   9295\n",
      "...            ...    ...\n",
      "202594  202595.jpg   9761\n",
      "202595  202596.jpg   7192\n",
      "202596  202597.jpg   9852\n",
      "202597  202598.jpg   5570\n",
      "202598  202599.jpg  10101\n",
      "\n",
      "[202599 rows x 2 columns]\n"
     ]
    }
   ],
   "source": [
    "import pandas as pd\n",
    "\n",
    "df = pd.read_csv('data/celeba/identity_CelebA.txt', delimiter=' ', header = None, names = ['filename', 'class'])\n",
    "print(df)"
   ]
  },
  {
   "cell_type": "code",
   "execution_count": null,
   "id": "4c884b10",
   "metadata": {},
   "outputs": [],
   "source": []
  },
  {
   "cell_type": "code",
   "execution_count": 3,
   "id": "9ad7cf6e",
   "metadata": {},
   "outputs": [],
   "source": [
    "class_names = list(np.unique(np.array(df['class'].to_list())))"
   ]
  },
  {
   "cell_type": "code",
   "execution_count": 4,
   "id": "1988ba0e",
   "metadata": {},
   "outputs": [
    {
     "data": {
      "text/plain": [
       "10177"
      ]
     },
     "execution_count": 4,
     "metadata": {},
     "output_type": "execute_result"
    }
   ],
   "source": [
    "len(class_names)"
   ]
  },
  {
   "cell_type": "code",
   "execution_count": 5,
   "id": "e0b3e236",
   "metadata": {},
   "outputs": [
    {
     "data": {
      "text/plain": [
       "202599"
      ]
     },
     "execution_count": 5,
     "metadata": {},
     "output_type": "execute_result"
    }
   ],
   "source": [
    "len(df['class'].to_list())"
   ]
  },
  {
   "cell_type": "code",
   "execution_count": 6,
   "id": "e1503210",
   "metadata": {},
   "outputs": [],
   "source": [
    "filename_list = df['filename'].to_list()"
   ]
  },
  {
   "cell_type": "code",
   "execution_count": 7,
   "id": "194f928a",
   "metadata": {},
   "outputs": [
    {
     "data": {
      "text/plain": [
       "202599"
      ]
     },
     "execution_count": 7,
     "metadata": {},
     "output_type": "execute_result"
    }
   ],
   "source": [
    "len(filename_list)"
   ]
  },
  {
   "cell_type": "code",
   "execution_count": 8,
   "id": "de359d7a",
   "metadata": {},
   "outputs": [],
   "source": [
    "folders_dict = dict()\n",
    "for i in range(len(filename_list)):\n",
    "    class_name = df['class'][i]\n",
    "    if class_name not in folders_dict.keys():\n",
    "        folders_dict[class_name] = [df['filename'][i]]\n",
    "    else:\n",
    "        folders_dict[class_name].append(df['filename'][i])"
   ]
  },
  {
   "cell_type": "code",
   "execution_count": 9,
   "id": "7a045fab",
   "metadata": {},
   "outputs": [],
   "source": [
    "master_path = 'data/celeba/processed/'\n",
    "source_path = 'data/celeba/img_align_celeba/'"
   ]
  },
  {
   "cell_type": "code",
   "execution_count": 10,
   "id": "624ca9a0",
   "metadata": {},
   "outputs": [],
   "source": [
    "for class_name in folders_dict.keys():\n",
    "    class_name_str = str(class_name)\n",
    "    os.mkdir(master_path + class_name_str + '/')\n",
    "    for filename in folders_dict[class_name]:\n",
    "        old_path = os.path.join(source_path, filename)\n",
    "        new_path = os.path.join(master_path, class_name_str + '/')\n",
    "        shutil.move(old_path, new_path)"
   ]
  },
  {
   "cell_type": "code",
   "execution_count": 2,
   "id": "c5c739a0",
   "metadata": {},
   "outputs": [],
   "source": [
    "IMAGE_PATH = 'data/celeba/processed/'\n",
    "batch_size = 64\n",
    "image_size = 64"
   ]
  },
  {
   "cell_type": "code",
   "execution_count": 3,
   "id": "d9cb2dd3",
   "metadata": {},
   "outputs": [],
   "source": [
    "transform = transforms.Compose([\n",
    "    transforms.Resize(image_size),\n",
    "    transforms.CenterCrop(image_size),\n",
    "    transforms.ToTensor(),\n",
    "    transforms.Normalize((0.5, 0.5, 0.5), (0.5, 0.5, 0.5))\n",
    "])\n",
    "\n",
    "dataset = ImageFolder(IMAGE_PATH, transform)\n",
    "data_loader = DataLoader(dataset=dataset, batch_size=batch_size, shuffle=True, num_workers=8, drop_last=True)"
   ]
  },
  {
   "cell_type": "code",
   "execution_count": 4,
   "id": "8e0faeba",
   "metadata": {},
   "outputs": [],
   "source": [
    "img, labels = next(iter(data_loader))"
   ]
  },
  {
   "cell_type": "code",
   "execution_count": 5,
   "id": "61edac41",
   "metadata": {},
   "outputs": [
    {
     "data": {
      "text/plain": [
       "torch.Size([64, 3, 64, 64])"
      ]
     },
     "execution_count": 5,
     "metadata": {},
     "output_type": "execute_result"
    }
   ],
   "source": [
    "img.shape"
   ]
  },
  {
   "cell_type": "code",
   "execution_count": 15,
   "id": "a17d8bc4",
   "metadata": {},
   "outputs": [
    {
     "name": "stderr",
     "output_type": "stream",
     "text": [
      "Clipping input data to the valid range for imshow with RGB data ([0..1] for floats or [0..255] for integers).\n"
     ]
    },
    {
     "data": {
      "image/png": "[encoded data removed]",
      "text/plain": [
       "<Figure size 800x400 with 2 Axes>"
      ]
     },
     "metadata": {},
     "output_type": "display_data"
    }
   ],
   "source": [
    "import numpy as np\n",
    "import matplotlib.pyplot as plt\n",
    "import cv2\n",
    "import numpy as np \n",
    "import random\n",
    "\n",
    "def generate_blocks(img):\n",
    "    block_size = 32\n",
    "    num_blocks = 16\n",
    "    \n",
    "    blocks = []\n",
    "    for i in range(num_blocks):\n",
    "        x = random.randint(0, img.shape[0] - block_size)\n",
    "        y = random.randint(0, img.shape[1] - block_size)\n",
    "        block = img[x:x+block_size, y:y+block_size, :]\n",
    "        blocks.append(block)\n",
    "        \n",
    "    return blocks\n",
    "\n",
    "def rearrange_blocks(blocks, block_coords):\n",
    "    img = np.zeros((64,64,3))\n",
    "    for i, block in enumerate(blocks):\n",
    "        x, y = block_coords[i]  \n",
    "        img[x:x+block.shape[0], y:y+block.shape[1], :] = block\n",
    "        \n",
    "    return img  \n",
    "\n",
    "def generate_and_rearrange(img):\n",
    "    blocks = generate_blocks(img)\n",
    "    \n",
    "    block_coords = []\n",
    "    for block in blocks:\n",
    "        x = random.randint(0, img.shape[0] - block.shape[0]) \n",
    "        y = random.randint(0, img.shape[1] - block.shape[1])\n",
    "        block_coords.append((x, y))\n",
    "        \n",
    "    img_rearranged = rearrange_blocks(blocks, block_coords)\n",
    "    \n",
    "    return img_rearranged\n",
    "\n",
    "# Example usage\n",
    "image_size = (64, 64)\n",
    "original_image = cv2.imread('/home/avideep/Pictures/test.jpg')\n",
    "original_image = cv2.resize(original_image, (64, 64))\n",
    "\n",
    "# Generate blocks\n",
    "# blocks, block_positions = generate_blocks(original_image)\n",
    "\n",
    "# Rearrange blocks to obtain the original image\n",
    "reconstructed_image = generate_and_rearrange(original_image)\n",
    "\n",
    "# Plotting the results\n",
    "fig, axes = plt.subplots(1, 2, figsize=(8, 4))\n",
    "axes[0].imshow(original_image, cmap='gray')\n",
    "axes[0].set_title('Original Image')\n",
    "\n",
    "axes[1].imshow(reconstructed_image, cmap='gray')\n",
    "axes[1].set_title('Reconstructed Image')\n",
    "\n",
    "plt.show()\n",
    "\n",
    "original_image = cv2.imread('/home/avideep/Pictures/test.jpg')\n"
   ]
  },
  {
   "cell_type": "code",
   "execution_count": 4,
   "id": "e4f9e1fd",
   "metadata": {},
   "outputs": [
    {
     "data": {
      "text/plain": [
       "(960, 952, 3)"
      ]
     },
     "execution_count": 4,
     "metadata": {},
     "output_type": "execute_result"
    }
   ],
   "source": [
    "original_image.shape"
   ]
  },
  {
   "cell_type": "code",
   "execution_count": 11,
   "id": "06fe7714",
   "metadata": {},
   "outputs": [
    {
     "name": "stderr",
     "output_type": "stream",
     "text": [
      "Clipping input data to the valid range for imshow with RGB data ([0..1] for floats or [0..255] for integers).\n"
     ]
    },
    {
     "name": "stdout",
     "output_type": "stream",
     "text": [
      "(64, 64, 3)\n"
     ]
    },
    {
     "data": {
      "image/png": "[encoded data removed]",
      "text/plain": [
       "<Figure size 800x400 with 2 Axes>"
      ]
     },
     "metadata": {},
     "output_type": "display_data"
    }
   ],
   "source": [
    "\n",
    "original_image = cv2.resize(original_image, (64, 64))\n",
    "print(original_image.shape)\n",
    "# Generate blocks\n",
    "blocks, block_positions = generate_blocks(original_image)\n",
    "\n",
    "# Rearrange blocks to obtain the original image\n",
    "reconstructed_image = rearrange_blocks(blocks, block_positions, original_image.shape)\n",
    "\n",
    "# Plotting the results\n",
    "fig, axes = plt.subplots(1, 2, figsize=(8, 4))\n",
    "axes[0].imshow(original_image)\n",
    "axes[0].set_title('Original Image')\n",
    "\n",
    "axes[1].imshow(reconstructed_image)\n",
    "axes[1].set_title('Reconstructed Image')\n",
    "\n",
    "plt.show()\n"
   ]
  },
  {
   "cell_type": "code",
   "execution_count": 33,
   "id": "c3eafb77",
   "metadata": {},
   "outputs": [
    {
     "name": "stdout",
     "output_type": "stream",
     "text": [
      "False\n"
     ]
    }
   ],
   "source": [
    "import numpy as np\n",
    "from PIL import Image\n",
    "\n",
    "def generate_blocks(img):\n",
    "\n",
    "    blocks = []\n",
    "    used = np.zeros_like(img[:,:,0])\n",
    "\n",
    "    for i in range(16):\n",
    "       \n",
    "        # Keep picking random crops until whole image covered\n",
    "        while True:  \n",
    "            x = np.random.randint(0, img.shape[0]-32)\n",
    "            y = np.random.randint(0, img.shape[1]-32)\n",
    "            \n",
    "            if used[x:x+32,y:y+32].sum() < 1024:\n",
    "                break\n",
    "                \n",
    "        block = img[x:x+32, y:y+32] \n",
    "        used[x:x+32, y:y+32] = 1\n",
    "        blocks.append(block)\n",
    "\n",
    "    return blocks\n",
    "                \n",
    "def rearrange_blocks(blocks, img):\n",
    "    \n",
    "    canvas = np.zeros_like(img)\n",
    "    corners = []\n",
    "    \n",
    "    for block in blocks:\n",
    "        \n",
    "        x = np.random.randint(0, canvas.shape[0]-block.shape[0])  \n",
    "        y = np.random.randint(0, canvas.shape[1]-block.shape[1]) \n",
    "        corners.append((x, y))\n",
    "        \n",
    "        canvas[x:x+32, y:y+32] = block\n",
    "        \n",
    "    return canvas, corners\n",
    "\n",
    "img = np.random.rand(64, 64, 3)  \n",
    "        \n",
    "blocks = generate_blocks(img)\n",
    "recon, _ = rearrange_blocks(blocks, img)\n",
    "print(np.array_equal(img, recon))"
   ]
  },
  {
   "cell_type": "code",
   "execution_count": 1,
   "id": "312073d7",
   "metadata": {},
   "outputs": [],
   "source": [
    "import torch\n",
    "a = torch.randn(16, 10, 64, 64)"
   ]
  },
  {
   "cell_type": "code",
   "execution_count": 10,
   "id": "777e6806",
   "metadata": {},
   "outputs": [],
   "source": [
    "import numpy as np\n",
    "blocks = np.split(a, 2, axis=3)"
   ]
  },
  {
   "cell_type": "code",
   "execution_count": 11,
   "id": "331095a9",
   "metadata": {},
   "outputs": [
    {
     "data": {
      "text/plain": [
       "torch.Size([16, 10, 64, 32])"
      ]
     },
     "execution_count": 11,
     "metadata": {},
     "output_type": "execute_result"
    }
   ],
   "source": [
    "blocks[0].shape"
   ]
  },
  {
   "cell_type": "code",
   "execution_count": 15,
   "id": "3f4290ac",
   "metadata": {},
   "outputs": [
    {
     "name": "stdout",
     "output_type": "stream",
     "text": [
      "0\n",
      "1\n",
      "0\n",
      "1\n",
      "1\n",
      "1\n",
      "1\n",
      "0\n",
      "1\n",
      "1\n",
      "0\n",
      "1\n",
      "1\n",
      "1\n",
      "1\n",
      "1\n",
      "1\n",
      "0\n",
      "1\n",
      "1\n",
      "1\n",
      "1\n",
      "1\n",
      "0\n",
      "0\n",
      "0\n",
      "1\n",
      "0\n",
      "0\n",
      "1\n",
      "1\n",
      "1\n",
      "0\n",
      "1\n",
      "1\n",
      "0\n",
      "1\n",
      "1\n",
      "0\n",
      "0\n",
      "1\n",
      "0\n",
      "1\n",
      "0\n",
      "1\n",
      "1\n",
      "1\n",
      "1\n",
      "1\n",
      "1\n"
     ]
    }
   ],
   "source": [
    "for i in range(50):\n",
    "    print(np.random.choice([1,0], p = [0.7,0.3]))"
   ]
  },
  {
   "cell_type": "code",
   "execution_count": 1,
   "id": "9d1b9f90",
   "metadata": {},
   "outputs": [],
   "source": [
    "import torch"
   ]
  },
  {
   "cell_type": "code",
   "execution_count": 2,
   "id": "bf9782f5",
   "metadata": {},
   "outputs": [],
   "source": [
    "a = b = torch.randn(16,10,32,32)"
   ]
  },
  {
   "cell_type": "code",
   "execution_count": 3,
   "id": "74f0a61a",
   "metadata": {},
   "outputs": [
    {
     "data": {
      "text/plain": [
       "torch.Size([16, 20, 32, 32])"
      ]
     },
     "execution_count": 3,
     "metadata": {},
     "output_type": "execute_result"
    }
   ],
   "source": [
    "torch.cat([a,b],dim=1).shape"
   ]
  },
  {
   "cell_type": "code",
   "execution_count": 1,
   "id": "7ba3ba9c",
   "metadata": {},
   "outputs": [
    {
     "name": "stderr",
     "output_type": "stream",
     "text": [
      "2024-03-16 16:50:49.709754: I tensorflow/core/util/port.cc:110] oneDNN custom operations are on. You may see slightly different numerical results due to floating-point round-off errors from different computation orders. To turn them off, set the environment variable `TF_ENABLE_ONEDNN_OPTS=0`.\n",
      "2024-03-16 16:50:49.711828: I tensorflow/tsl/cuda/cudart_stub.cc:28] Could not find cuda drivers on your machine, GPU will not be used.\n",
      "2024-03-16 16:50:49.755883: I tensorflow/tsl/cuda/cudart_stub.cc:28] Could not find cuda drivers on your machine, GPU will not be used.\n",
      "2024-03-16 16:50:49.756578: I tensorflow/core/platform/cpu_feature_guard.cc:182] This TensorFlow binary is optimized to use available CPU instructions in performance-critical operations.\n",
      "To enable the following instructions: AVX2 AVX512F AVX512_VNNI FMA, in other operations, rebuild TensorFlow with the appropriate compiler flags.\n",
      "2024-03-16 16:50:50.553895: W tensorflow/compiler/tf2tensorrt/utils/py_utils.cc:38] TF-TRT Warning: Could not find TensorRT\n"
     ]
    }
   ],
   "source": [
    "import scann\n",
    "from dataloader import CIFAR10, CelebAHQ\n",
    "import torch\n",
    "import numpy as np"
   ]
  },
  {
   "cell_type": "code",
   "execution_count": 3,
   "id": "93745400",
   "metadata": {},
   "outputs": [],
   "source": [
    "data = CelebAHQ()"
   ]
  },
  {
   "cell_type": "code",
   "execution_count": 4,
   "id": "640ab7d9",
   "metadata": {},
   "outputs": [],
   "source": [
    "trainloader = data.train"
   ]
  },
  {
   "cell_type": "code",
   "execution_count": 5,
   "id": "8bc235a0",
   "metadata": {},
   "outputs": [
    {
     "ename": "AttributeError",
     "evalue": "'CelebAHQ' object has no attribute 'dset'",
     "output_type": "error",
     "traceback": [
      "\u001b[0;31m---------------------------------------------------------------------------\u001b[0m",
      "\u001b[0;31mAttributeError\u001b[0m                            Traceback (most recent call last)",
      "Cell \u001b[0;32mIn[5], line 1\u001b[0m\n\u001b[0;32m----> 1\u001b[0m dset \u001b[38;5;241m=\u001b[39m \u001b[43mdata\u001b[49m\u001b[38;5;241;43m.\u001b[39;49m\u001b[43mdset\u001b[49m\n",
      "\u001b[0;31mAttributeError\u001b[0m: 'CelebAHQ' object has no attribute 'dset'"
     ]
    }
   ],
   "source": [
    "dset = data.dset"
   ]
  },
  {
   "cell_type": "code",
   "execution_count": 2,
   "id": "58b5c3b6",
   "metadata": {},
   "outputs": [],
   "source": [
    "dset = torch.rand((30000,10,32,32))"
   ]
  },
  {
   "cell_type": "code",
   "execution_count": 16,
   "id": "185abf8f",
   "metadata": {},
   "outputs": [],
   "source": [
    "encoder = data.encoder"
   ]
  },
  {
   "cell_type": "code",
   "execution_count": 17,
   "id": "9ed03739",
   "metadata": {},
   "outputs": [],
   "source": [
    "x, _ = next(iter(trainloader))"
   ]
  },
  {
   "cell_type": "code",
   "execution_count": 18,
   "id": "db13709e",
   "metadata": {},
   "outputs": [
    {
     "data": {
      "text/plain": [
       "torch.Size([16, 3, 256, 256])"
      ]
     },
     "execution_count": 18,
     "metadata": {},
     "output_type": "execute_result"
    }
   ],
   "source": [
    "x.shape"
   ]
  },
  {
   "cell_type": "code",
   "execution_count": 19,
   "id": "5b7eec80",
   "metadata": {},
   "outputs": [],
   "source": [
    "x_clip = data.get_encodings(x)"
   ]
  },
  {
   "cell_type": "code",
   "execution_count": 3,
   "id": "3f0c7f26",
   "metadata": {},
   "outputs": [],
   "source": [
    "x_clip = torch.rand(16, 10240)"
   ]
  },
  {
   "cell_type": "code",
   "execution_count": 12,
   "id": "2391e8e1",
   "metadata": {},
   "outputs": [],
   "source": [
    "normalized_dset = (dset / np.linalg.norm(dset, axis=1)[:, np.newaxis]).view(30000,-1)"
   ]
  },
  {
   "cell_type": "code",
   "execution_count": 5,
   "id": "6d08a516",
   "metadata": {},
   "outputs": [
    {
     "name": "stdout",
     "output_type": "stream",
     "text": [
      "CPU times: user 13h 20min 1s, sys: 2min 39s, total: 13h 22min 41s\n",
      "Wall time: 20min 18s\n"
     ]
    },
    {
     "name": "stderr",
     "output_type": "stream",
     "text": [
      "2024-03-16 16:51:14.781297: I scann/partitioning/partitioner_factory_base.cc:59] Size of sampled dataset for training partition: 30000\n",
      "2024-03-16 17:07:47.567231: I ./scann/partitioning/kmeans_tree_partitioner_utils.h:84] PartitionerFactory ran in 16m32.785867434s.\n"
     ]
    }
   ],
   "source": [
    "%%time\n",
    "searcher = scann.scann_ops_pybind.builder(normalized_dset, 10, \"dot_product\").tree(\n",
    "    num_leaves=2000, num_leaves_to_search=100, training_sample_size=250000).score_ah(\n",
    "    2, anisotropic_quantization_threshold=0.2).reorder(100).build()"
   ]
  },
  {
   "cell_type": "code",
   "execution_count": 8,
   "id": "9c5db69b",
   "metadata": {},
   "outputs": [
    {
     "name": "stdout",
     "output_type": "stream",
     "text": [
      "CPU times: user 81 ms, sys: 4 µs, total: 81 ms\n",
      "Wall time: 80.1 ms\n"
     ]
    }
   ],
   "source": [
    "%%time\n",
    "neighbors, distances = searcher.search_batched(x_clip, leaves_to_search=150, pre_reorder_num_neighbors=250)"
   ]
  },
  {
   "cell_type": "code",
   "execution_count": 9,
   "id": "6bada5ac",
   "metadata": {},
   "outputs": [
    {
     "data": {
      "text/plain": [
       "(16, 10)"
      ]
     },
     "execution_count": 9,
     "metadata": {},
     "output_type": "execute_result"
    }
   ],
   "source": [
    "neighbors.shape"
   ]
  },
  {
   "cell_type": "code",
   "execution_count": 10,
   "id": "e7e5075e",
   "metadata": {},
   "outputs": [
    {
     "data": {
      "text/plain": [
       "array([[16280, 14496, 18776,  5616, 14725, 10066, 25145, 15452,  5695,\n",
       "        22242],\n",
       "       [11450, 15139, 29127, 19329, 10003,  3551,   327, 10910, 26257,\n",
       "        22191],\n",
       "       [12112, 24240, 26683,  4863, 16802,  1096, 20483,  3976,  2236,\n",
       "         6932],\n",
       "       [26970,  1811, 14725, 27424,  6794, 12829, 27025, 13821, 26904,\n",
       "        16520],\n",
       "       [28984, 17802, 19140,  7030, 26287,  9732, 10932, 10883, 12489,\n",
       "         1673],\n",
       "       [20120,  4913, 28822,  9061,   449, 25261, 29690, 15299, 11400,\n",
       "         9198],\n",
       "       [ 1720, 21535, 27493, 21101, 10520, 27353, 22184,  2395, 18685,\n",
       "        15912],\n",
       "       [ 5384,  7030, 11450, 14951,  4863, 22489,  4394, 26127,  1695,\n",
       "         8148],\n",
       "       [ 5092, 22129,  5158, 24925, 15036, 19904, 18295, 22680, 27609,\n",
       "        23957],\n",
       "       [  140, 24598, 24622, 14598, 26762, 23798, 17444, 10951,  4578,\n",
       "        13012],\n",
       "       [16992,  3913, 24311, 10423,  3519, 11396, 22232, 11615,  1209,\n",
       "        15271],\n",
       "       [17745, 16613, 14889, 24671,  7891, 16359, 19919,  3931, 11919,\n",
       "        25906],\n",
       "       [15723, 17078, 15596, 23319, 10910, 26908,  2447,  7709, 15511,\n",
       "        13917],\n",
       "       [25365,  2447, 13650, 12799, 13482,  9790, 29311, 19904, 23340,\n",
       "        14509],\n",
       "       [23969, 23987, 29127, 15381,  9119,  4005, 28004, 10314, 10285,\n",
       "        16937],\n",
       "       [ 6894, 28249, 20722,  4778,  4007, 10226, 23755,  3667, 13482,\n",
       "        10788]], dtype=uint32)"
      ]
     },
     "execution_count": 10,
     "metadata": {},
     "output_type": "execute_result"
    }
   ],
   "source": [
    "neighbors"
   ]
  },
  {
   "cell_type": "code",
   "execution_count": 13,
   "id": "a0b655e4",
   "metadata": {},
   "outputs": [],
   "source": [
    "neib = normalized_dset[np.int64(neighbors[0])]"
   ]
  },
  {
   "cell_type": "code",
   "execution_count": 14,
   "id": "0b8284c4",
   "metadata": {},
   "outputs": [
    {
     "data": {
      "text/plain": [
       "torch.Size([10, 10240])"
      ]
     },
     "execution_count": 14,
     "metadata": {},
     "output_type": "execute_result"
    }
   ],
   "source": [
    "neib.shape"
   ]
  },
  {
   "cell_type": "code",
   "execution_count": 15,
   "id": "b4fbddd0",
   "metadata": {},
   "outputs": [],
   "source": [
    "def make_neighbor_matrix(neighbors, dset):\n",
    "    mat = []\n",
    "    for neighbor in neighbors:\n",
    "        mat.append(dset[np.int64(neighbor)])\n",
    "    return torch.stack(mat)"
   ]
  },
  {
   "cell_type": "code",
   "execution_count": 16,
   "id": "3043608b",
   "metadata": {},
   "outputs": [],
   "source": [
    "neighbor_matrix = make_neighbor_matrix(neighbors,normalized_dset)"
   ]
  },
  {
   "cell_type": "code",
   "execution_count": 17,
   "id": "3c156627",
   "metadata": {},
   "outputs": [
    {
     "data": {
      "text/plain": [
       "16"
      ]
     },
     "execution_count": 17,
     "metadata": {},
     "output_type": "execute_result"
    }
   ],
   "source": [
    "len(neighbor_matrix)"
   ]
  },
  {
   "cell_type": "code",
   "execution_count": 18,
   "id": "990da56f",
   "metadata": {},
   "outputs": [
    {
     "data": {
      "text/plain": [
       "torch.Size([16, 10, 10240])"
      ]
     },
     "execution_count": 18,
     "metadata": {},
     "output_type": "execute_result"
    }
   ],
   "source": [
    "neighbor_matrix.shape"
   ]
  },
  {
   "cell_type": "code",
   "execution_count": 19,
   "id": "825f60da",
   "metadata": {},
   "outputs": [
    {
     "data": {
      "text/plain": [
       "tensor([[[0.0372, 0.0162, 0.0283,  ..., 0.2961, 0.1824, 0.3263],\n",
       "         [0.0770, 0.4204, 0.0614,  ..., 0.0348, 0.2252, 0.3736],\n",
       "         [0.0173, 0.4839, 0.1670,  ..., 0.3618, 0.1019, 0.4891],\n",
       "         ...,\n",
       "         [0.4913, 0.1124, 0.3967,  ..., 0.0302, 0.3930, 0.3690],\n",
       "         [0.0123, 0.3142, 0.4498,  ..., 0.1945, 0.1868, 0.1734],\n",
       "         [0.4920, 0.1615, 0.2365,  ..., 0.3264, 0.3340, 0.0046]],\n",
       "\n",
       "        [[0.3615, 0.4800, 0.4086,  ..., 0.4393, 0.0463, 0.3665],\n",
       "         [0.3390, 0.3713, 0.3324,  ..., 0.1103, 0.2187, 0.2309],\n",
       "         [0.5155, 0.2575, 0.3753,  ..., 0.2395, 0.4669, 0.3765],\n",
       "         ...,\n",
       "         [0.2457, 0.4035, 0.4441,  ..., 0.3464, 0.2462, 0.2198],\n",
       "         [0.4559, 0.3202, 0.1395,  ..., 0.1810, 0.2020, 0.1887],\n",
       "         [0.1712, 0.3429, 0.4876,  ..., 0.1556, 0.2911, 0.2072]],\n",
       "\n",
       "        [[0.3167, 0.1722, 0.4432,  ..., 0.4621, 0.3406, 0.4300],\n",
       "         [0.4513, 0.4425, 0.1365,  ..., 0.4030, 0.1921, 0.3193],\n",
       "         [0.2988, 0.1077, 0.4188,  ..., 0.0651, 0.5356, 0.4347],\n",
       "         ...,\n",
       "         [0.4744, 0.4901, 0.1789,  ..., 0.4573, 0.3085, 0.2088],\n",
       "         [0.0124, 0.2848, 0.2635,  ..., 0.0921, 0.3281, 0.3200],\n",
       "         [0.1132, 0.2562, 0.4752,  ..., 0.0878, 0.3557, 0.4313]],\n",
       "\n",
       "        ...,\n",
       "\n",
       "        [[0.3092, 0.3557, 0.0623,  ..., 0.4181, 0.0984, 0.2285],\n",
       "         [0.3950, 0.0402, 0.1547,  ..., 0.2988, 0.1034, 0.2433],\n",
       "         [0.0298, 0.4823, 0.0320,  ..., 0.4638, 0.0355, 0.0837],\n",
       "         ...,\n",
       "         [0.4709, 0.3922, 0.5191,  ..., 0.0578, 0.0155, 0.3278],\n",
       "         [0.1217, 0.2719, 0.5306,  ..., 0.3391, 0.0784, 0.5417],\n",
       "         [0.5449, 0.4461, 0.3457,  ..., 0.1801, 0.4244, 0.3677]],\n",
       "\n",
       "        [[0.4806, 0.3908, 0.3956,  ..., 0.3000, 0.0718, 0.1726],\n",
       "         [0.1644, 0.3131, 0.4986,  ..., 0.3990, 0.5193, 0.4174],\n",
       "         [0.5155, 0.2575, 0.3753,  ..., 0.2395, 0.4669, 0.3765],\n",
       "         ...,\n",
       "         [0.0335, 0.0753, 0.4946,  ..., 0.0145, 0.3809, 0.3395],\n",
       "         [0.0612, 0.0558, 0.2354,  ..., 0.4534, 0.0342, 0.0976],\n",
       "         [0.1548, 0.1708, 0.2813,  ..., 0.4549, 0.3236, 0.1804]],\n",
       "\n",
       "        [[0.2565, 0.0835, 0.1380,  ..., 0.5325, 0.0414, 0.3986],\n",
       "         [0.4926, 0.5231, 0.0248,  ..., 0.3015, 0.2752, 0.0354],\n",
       "         [0.2197, 0.1961, 0.4318,  ..., 0.3044, 0.2608, 0.3786],\n",
       "         ...,\n",
       "         [0.4653, 0.3798, 0.4681,  ..., 0.3375, 0.5193, 0.5315],\n",
       "         [0.2437, 0.3510, 0.0363,  ..., 0.1892, 0.5061, 0.3132],\n",
       "         [0.3995, 0.1949, 0.1694,  ..., 0.0577, 0.3918, 0.1914]]])"
      ]
     },
     "execution_count": 19,
     "metadata": {},
     "output_type": "execute_result"
    }
   ],
   "source": [
    "neighbor_matrix"
   ]
  },
  {
   "cell_type": "code",
   "execution_count": 20,
   "id": "9137af90",
   "metadata": {},
   "outputs": [
    {
     "data": {
      "text/plain": [
       "array([[1427.6368, 1426.9172, 1426.6736, 1425.7695, 1425.1958, 1424.9917,\n",
       "        1424.73  , 1424.1182, 1424.0312, 1423.8364],\n",
       "       [1433.1831, 1432.8154, 1432.3281, 1432.2935, 1432.1848, 1431.0618,\n",
       "        1430.6151, 1430.5171, 1430.3052, 1429.8944],\n",
       "       [1439.7   , 1437.9705, 1436.4957, 1436.0735, 1435.9844, 1435.7462,\n",
       "        1435.6628, 1435.5947, 1435.4102, 1435.2876],\n",
       "       [1427.9231, 1427.5042, 1427.2346, 1426.668 , 1426.6367, 1426.3953,\n",
       "        1425.5891, 1425.3495, 1425.329 , 1425.3203],\n",
       "       [1434.9873, 1433.8091, 1433.2107, 1433.1787, 1432.9541, 1432.6389,\n",
       "        1431.7952, 1430.9412, 1430.7947, 1430.6423],\n",
       "       [1424.8086, 1423.6101, 1420.0184, 1419.9062, 1419.8286, 1418.6274,\n",
       "        1418.4794, 1418.3654, 1418.2068, 1418.1997],\n",
       "       [1430.4906, 1429.7233, 1429.6084, 1429.5171, 1429.4636, 1428.729 ,\n",
       "        1427.8856, 1427.7888, 1427.5281, 1427.4733],\n",
       "       [1440.5557, 1436.9271, 1436.8927, 1434.5593, 1434.0247, 1433.6382,\n",
       "        1433.3523, 1433.1003, 1432.9475, 1432.8962],\n",
       "       [1434.3384, 1433.9403, 1430.7056, 1430.6138, 1430.1604, 1430.1549,\n",
       "        1429.3075, 1429.0779, 1428.9891, 1428.9597],\n",
       "       [1425.5024, 1419.4854, 1419.2152, 1419.0543, 1418.2959, 1417.3562,\n",
       "        1417.0264, 1416.9869, 1416.3655, 1416.0001],\n",
       "       [1417.2921, 1417.1023, 1415.7839, 1415.5529, 1415.2756, 1415.157 ,\n",
       "        1414.614 , 1414.443 , 1414.2476, 1414.1936],\n",
       "       [1426.794 , 1424.3542, 1423.396 , 1421.5281, 1421.2015, 1420.7408,\n",
       "        1420.4314, 1420.1609, 1419.6003, 1419.4493],\n",
       "       [1421.9834, 1421.2158, 1421.1207, 1421.1012, 1420.5242, 1420.0044,\n",
       "        1419.5195, 1419.3394, 1419.2236, 1419.1483],\n",
       "       [1424.2925, 1423.1387, 1422.6437, 1421.8289, 1421.0691, 1420.8557,\n",
       "        1420.7891, 1420.2019, 1419.9321, 1419.5061],\n",
       "       [1434.5217, 1433.7473, 1433.6069, 1433.0691, 1432.754 , 1432.3098,\n",
       "        1432.2268, 1432.0303, 1431.8727, 1431.5713],\n",
       "       [1423.8867, 1422.8853, 1422.8822, 1422.0967, 1421.2559, 1420.7993,\n",
       "        1420.6533, 1420.5131, 1420.3401, 1420.2587]], dtype=float32)"
      ]
     },
     "execution_count": 20,
     "metadata": {},
     "output_type": "execute_result"
    }
   ],
   "source": [
    "distances"
   ]
  },
  {
   "cell_type": "code",
   "execution_count": 4,
   "id": "ed8df5c1",
   "metadata": {},
   "outputs": [
    {
     "data": {
      "text/plain": [
       "tensor([[[[0.0000, 0.0000, 0.5010, 0.0499, 0.0000, 0.0000],\n",
       "          [0.0000, 0.0000, 0.5405, 0.5152, 0.0000, 0.0000],\n",
       "          [0.0000, 0.0000, 0.1153, 0.5376, 0.0000, 0.0000],\n",
       "          [0.0000, 0.0000, 0.3352, 0.1458, 0.0000, 0.0000]],\n",
       "\n",
       "         [[0.0000, 0.0000, 0.8031, 0.1613, 0.0000, 0.0000],\n",
       "          [0.0000, 0.0000, 0.6341, 0.6133, 0.0000, 0.0000],\n",
       "          [0.0000, 0.0000, 0.1702, 0.6066, 0.0000, 0.0000],\n",
       "          [0.0000, 0.0000, 0.5321, 0.2214, 0.0000, 0.0000]]]])"
      ]
     },
     "execution_count": 4,
     "metadata": {},
     "output_type": "execute_result"
    }
   ],
   "source": [
    "import torch\n",
    "import torch.nn.functional as F\n",
    "# Assuming your condition tensor is named 'condition' and has shape (10, 512)\n",
    "condition = torch.rand((1, 2, 8))\n",
    "input_shape = (1, 2, 4, 4)\n",
    "b, c, h, w = input_shape\n",
    "condition = condition.view(b,c,h,-1)\n",
    "pad = (2,2)\n",
    "input = torch.rand(input_shape)\n",
    "output = F.pad(condition, pad, \"constant\", 0)\n",
    "output"
   ]
  },
  {
   "cell_type": "code",
   "execution_count": null,
   "id": "1487282f",
   "metadata": {},
   "outputs": [],
   "source": []
  }
 ],
 "metadata": {
  "kernelspec": {
   "display_name": "Python 3 (ipykernel)",
   "language": "python",
   "name": "python3"
  },
  "language_info": {
   "codemirror_mode": {
    "name": "ipython",
    "version": 3
   },
   "file_extension": ".py",
   "mimetype": "text/x-python",
   "name": "python",
   "nbconvert_exporter": "python",
   "pygments_lexer": "ipython3",
   "version": "3.8.5"
  }
 },
 "nbformat": 4,
 "nbformat_minor": 5
}
