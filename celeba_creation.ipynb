{
 "cells": [
  {
   "cell_type": "code",
   "execution_count": 1,
   "id": "d1d5179b",
   "metadata": {},
   "outputs": [],
   "source": [
    "import os\n",
    "import pandas as pd\n",
    "import numpy as np\n",
    "import shutil\n",
    "from torchvision.datasets import ImageFolder\n",
    "from torch.utils.data import DataLoader\n",
    "from torchvision import transforms\n",
    "import torch"
   ]
  },
  {
   "cell_type": "code",
   "execution_count": 2,
   "id": "52141817",
   "metadata": {},
   "outputs": [],
   "source": [
    "x = torch.rand(1,1,4,4)"
   ]
  },
  {
   "cell_type": "code",
   "execution_count": 4,
   "id": "41f37d43",
   "metadata": {},
   "outputs": [
    {
     "name": "stdout",
     "output_type": "stream",
     "text": [
      "4\n"
     ]
    }
   ],
   "source": [
    "block_size = 2\n",
    "num_blocks = (x.shape[-1] // block_size)**2\n",
    "print(num_blocks)"
   ]
  },
  {
   "cell_type": "code",
   "execution_count": 6,
   "id": "8cbf125e",
   "metadata": {},
   "outputs": [
    {
     "name": "stdout",
     "output_type": "stream",
     "text": [
      "tensor([[[[0.1157, 0.1381, 0.4287, 0.9686],\n",
      "          [0.8617, 0.5661, 0.7504, 0.9481],\n",
      "          [0.6765, 0.0781, 0.1254, 0.5907],\n",
      "          [0.0200, 0.2357, 0.4185, 0.8004]]]])\n",
      "tensor([[[[0.1157, 0.1381],\n",
      "          [0.8617, 0.5661]]]])\n",
      "tensor([[[[0.4287, 0.9686],\n",
      "          [0.7504, 0.9481]]]])\n",
      "tensor([[[[0.6765, 0.0781],\n",
      "          [0.0200, 0.2357]]]])\n",
      "tensor([[[[0.1254, 0.5907],\n",
      "          [0.4185, 0.8004]]]])\n"
     ]
    }
   ],
   "source": [
    "print(x)\n",
    "for i in range(0, x.shape[-1], block_size):\n",
    "    for j in range(0, x.shape[-1], block_size):\n",
    "        print(x[:, :, i:i+block_size, j:j+block_size])"
   ]
  },
  {
   "cell_type": "code",
   "execution_count": null,
   "id": "57b67103",
   "metadata": {},
   "outputs": [],
   "source": []
  },
  {
   "cell_type": "code",
   "execution_count": null,
   "id": "653a1e0a",
   "metadata": {},
   "outputs": [],
   "source": []
  },
  {
   "cell_type": "code",
   "execution_count": null,
   "id": "92e59a64",
   "metadata": {},
   "outputs": [],
   "source": []
  },
  {
   "cell_type": "code",
   "execution_count": 2,
   "id": "080f506d",
   "metadata": {},
   "outputs": [
    {
     "name": "stdout",
     "output_type": "stream",
     "text": [
      "          filename  class\n",
      "0       000001.jpg   2880\n",
      "1       000002.jpg   2937\n",
      "2       000003.jpg   8692\n",
      "3       000004.jpg   5805\n",
      "4       000005.jpg   9295\n",
      "...            ...    ...\n",
      "202594  202595.jpg   9761\n",
      "202595  202596.jpg   7192\n",
      "202596  202597.jpg   9852\n",
      "202597  202598.jpg   5570\n",
      "202598  202599.jpg  10101\n",
      "\n",
      "[202599 rows x 2 columns]\n"
     ]
    }
   ],
   "source": [
    "import pandas as pd\n",
    "\n",
    "df = pd.read_csv('data/celeba/identity_CelebA.txt', delimiter=' ', header = None, names = ['filename', 'class'])\n",
    "print(df)"
   ]
  },
  {
   "cell_type": "code",
   "execution_count": null,
   "id": "b0a5d2da",
   "metadata": {},
   "outputs": [],
   "source": []
  },
  {
   "cell_type": "code",
   "execution_count": 3,
   "id": "2a37f4bc",
   "metadata": {},
   "outputs": [],
   "source": [
    "class_names = list(np.unique(np.array(df['class'].to_list())))"
   ]
  },
  {
   "cell_type": "code",
   "execution_count": 4,
   "id": "555d4f59",
   "metadata": {},
   "outputs": [
    {
     "data": {
      "text/plain": [
       "10177"
      ]
     },
     "execution_count": 4,
     "metadata": {},
     "output_type": "execute_result"
    }
   ],
   "source": [
    "len(class_names)"
   ]
  },
  {
   "cell_type": "code",
   "execution_count": 5,
   "id": "43d902f3",
   "metadata": {},
   "outputs": [
    {
     "data": {
      "text/plain": [
       "202599"
      ]
     },
     "execution_count": 5,
     "metadata": {},
     "output_type": "execute_result"
    }
   ],
   "source": [
    "len(df['class'].to_list())"
   ]
  },
  {
   "cell_type": "code",
   "execution_count": 6,
   "id": "ba045c34",
   "metadata": {},
   "outputs": [],
   "source": [
    "filename_list = df['filename'].to_list()"
   ]
  },
  {
   "cell_type": "code",
   "execution_count": 7,
   "id": "607f3199",
   "metadata": {},
   "outputs": [
    {
     "data": {
      "text/plain": [
       "202599"
      ]
     },
     "execution_count": 7,
     "metadata": {},
     "output_type": "execute_result"
    }
   ],
   "source": [
    "len(filename_list)"
   ]
  },
  {
   "cell_type": "code",
   "execution_count": 8,
   "id": "bcf594d1",
   "metadata": {},
   "outputs": [],
   "source": [
    "folders_dict = dict()\n",
    "for i in range(len(filename_list)):\n",
    "    class_name = df['class'][i]\n",
    "    if class_name not in folders_dict.keys():\n",
    "        folders_dict[class_name] = [df['filename'][i]]\n",
    "    else:\n",
    "        folders_dict[class_name].append(df['filename'][i])"
   ]
  },
  {
   "cell_type": "code",
   "execution_count": 9,
   "id": "b191d8e9",
   "metadata": {},
   "outputs": [],
   "source": [
    "master_path = 'data/celeba/processed/'\n",
    "source_path = 'data/celeba/img_align_celeba/'"
   ]
  },
  {
   "cell_type": "code",
   "execution_count": 10,
   "id": "e347ceb0",
   "metadata": {},
   "outputs": [],
   "source": [
    "for class_name in folders_dict.keys():\n",
    "    class_name_str = str(class_name)\n",
    "    os.mkdir(master_path + class_name_str + '/')\n",
    "    for filename in folders_dict[class_name]:\n",
    "        old_path = os.path.join(source_path, filename)\n",
    "        new_path = os.path.join(master_path, class_name_str + '/')\n",
    "        shutil.move(old_path, new_path)"
   ]
  },
  {
   "cell_type": "code",
   "execution_count": 2,
   "id": "849197ad",
   "metadata": {},
   "outputs": [],
   "source": [
    "IMAGE_PATH = 'data/celeba/processed/'\n",
    "batch_size = 64\n",
    "image_size = 64"
   ]
  },
  {
   "cell_type": "code",
   "execution_count": 3,
   "id": "d7b01030",
   "metadata": {},
   "outputs": [],
   "source": [
    "transform = transforms.Compose([\n",
    "    transforms.Resize(image_size),\n",
    "    transforms.CenterCrop(image_size),\n",
    "    transforms.ToTensor(),\n",
    "    transforms.Normalize((0.5, 0.5, 0.5), (0.5, 0.5, 0.5))\n",
    "])\n",
    "\n",
    "dataset = ImageFolder(IMAGE_PATH, transform)\n",
    "data_loader = DataLoader(dataset=dataset, batch_size=batch_size, shuffle=True, num_workers=8, drop_last=True)"
   ]
  },
  {
   "cell_type": "code",
   "execution_count": 4,
   "id": "67e21021",
   "metadata": {},
   "outputs": [],
   "source": [
    "img, labels = next(iter(data_loader))"
   ]
  },
  {
   "cell_type": "code",
   "execution_count": 5,
   "id": "963988b7",
   "metadata": {},
   "outputs": [
    {
     "data": {
      "text/plain": [
       "torch.Size([64, 3, 64, 64])"
      ]
     },
     "execution_count": 5,
     "metadata": {},
     "output_type": "execute_result"
    }
   ],
   "source": [
    "img.shape"
   ]
  },
  {
   "cell_type": "code",
   "execution_count": null,
   "id": "a4615238",
   "metadata": {},
   "outputs": [],
   "source": []
  }
 ],
 "metadata": {
  "kernelspec": {
   "display_name": "Python 3",
   "language": "python",
   "name": "python3"
  },
  "language_info": {
   "codemirror_mode": {
    "name": "ipython",
    "version": 3
   },
   "file_extension": ".py",
   "mimetype": "text/x-python",
   "name": "python",
   "nbconvert_exporter": "python",
   "pygments_lexer": "ipython3",
   "version": "3.8.5"
  }
 },
 "nbformat": 4,
 "nbformat_minor": 5
}
